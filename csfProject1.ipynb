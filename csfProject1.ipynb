{
 "cells": [
  {
   "cell_type": "code",
   "execution_count": 1,
   "id": "3c764151-4bbe-495f-908c-35755e820f74",
   "metadata": {},
   "outputs": [],
   "source": [
    "import logging\n",
    "import json\n",
    "from datetime import datetime\n",
    "from scapy.all import *"
   ]
  },
  {
   "cell_type": "code",
   "execution_count": 2,
   "id": "9c3d0325-190e-4b9d-a094-1e9bdb40c5d7",
   "metadata": {},
   "outputs": [
    {
     "name": "stdout",
     "output_type": "stream",
     "text": [
      "\n",
      "=== Network Intrusion System ===\n",
      "1. Start Packet Capture\n",
      "2. Display Logs\n",
      "3. Exit\n"
     ]
    },
    {
     "name": "stdin",
     "output_type": "stream",
     "text": [
      "Enter your choice:  1\n"
     ]
    },
    {
     "name": "stdout",
     "output_type": "stream",
     "text": [
      "Starting packet capture... Press Ctrl+C to stop.\n",
      "\n",
      "=== Network Intrusion System ===\n",
      "1. Start Packet Capture\n",
      "2. Display Logs\n",
      "3. Exit\n"
     ]
    },
    {
     "name": "stdin",
     "output_type": "stream",
     "text": [
      "Enter your choice:  2\n"
     ]
    },
    {
     "name": "stdout",
     "output_type": "stream",
     "text": [
      "2024-05-06 15:10:55,129 - INFO - TCP Packet - Source: 192.168.10.105:59831 --> Destination: 142.250.183.174:443\n",
      "2024-05-06 15:10:55,187 - INFO - TCP Packet - Source: 192.168.10.105:59831 --> Destination: 142.250.183.174:443\n",
      "2024-05-06 15:10:55,187 - INFO - TCP Packet - Source: 192.168.10.105:59831 --> Destination: 142.250.183.174:443\n",
      "2024-05-06 15:10:55,187 - INFO - TCP Packet - Source: 142.250.183.174:443 --> Destination: 192.168.10.105:59831\n",
      "2024-05-06 15:10:55,235 - INFO - TCP Packet - Source: 142.250.183.174:443 --> Destination: 192.168.10.105:59831\n",
      "2024-05-06 15:10:55,236 - INFO - TCP Packet - Source: 142.250.183.174:443 --> Destination: 192.168.10.105:59831\n",
      "2024-05-06 15:10:55,236 - INFO - TCP Packet - Source: 142.250.183.174:443 --> Destination: 192.168.10.105:59831\n",
      "2024-05-06 15:10:55,238 - INFO - TCP Packet - Source: 142.250.183.174:443 --> Destination: 192.168.10.105:59831\n",
      "2024-05-06 15:10:55,238 - INFO - TCP Packet - Source: 142.250.183.174:443 --> Destination: 192.168.10.105:59831\n",
      "2024-05-06 15:10:55,238 - INFO - TCP Packet - Source: 192.168.10.105:59831 --> Destination: 142.250.183.174:443\n",
      "2024-05-06 15:10:55,433 - INFO - TCP Packet - Source: 142.250.183.174:443 --> Destination: 192.168.10.105:59831\n",
      "2024-05-06 15:10:55,433 - INFO - TCP Packet - Source: 142.250.183.174:443 --> Destination: 192.168.10.105:59831\n",
      "2024-05-06 15:10:55,433 - INFO - TCP Packet - Source: 142.250.183.174:443 --> Destination: 192.168.10.105:59831\n",
      "2024-05-06 15:10:55,433 - INFO - TCP Packet - Source: 142.250.183.174:443 --> Destination: 192.168.10.105:59831\n",
      "2024-05-06 15:10:55,433 - INFO - TCP Packet - Source: 192.168.10.105:59831 --> Destination: 142.250.183.174:443\n",
      "2024-05-06 15:10:55,448 - INFO - TCP Packet - Source: 192.168.10.105:59831 --> Destination: 142.250.183.174:443\n",
      "2024-05-06 15:10:55,464 - INFO - TCP Packet - Source: 192.168.10.105:59831 --> Destination: 142.250.183.174:443\n",
      "2024-05-06 15:10:55,464 - INFO - TCP Packet - Source: 142.250.183.174:443 --> Destination: 192.168.10.105:59831\n",
      "2024-05-06 15:11:02,597 - INFO - TCP Packet - Source: 142.250.183.174:443 --> Destination: 192.168.10.105:59831\n",
      "2024-05-06 15:11:02,597 - INFO - TCP Packet - Source: 192.168.10.105:59831 --> Destination: 142.250.183.174:443\n",
      "2024-05-06 15:11:02,633 - INFO - TCP Packet - Source: 192.168.10.105:59831 --> Destination: 142.250.183.174:443\n",
      "2024-05-06 15:11:02,633 - INFO - TCP Packet - Source: 142.250.183.174:443 --> Destination: 192.168.10.105:59831\n",
      "2024-05-06 15:11:02,635 - INFO - TCP Packet - Source: 142.250.183.174:443 --> Destination: 192.168.10.105:59831\n",
      "2024-05-06 15:11:09,122 - INFO - TCP Packet - Source: 192.168.10.105:59831 --> Destination: 142.250.183.174:443\n",
      "2024-05-06 15:11:09,122 - INFO - TCP Packet - Source: 192.168.10.105:59831 --> Destination: 142.250.183.174:443\n",
      "2024-05-06 15:11:09,196 - INFO - TCP Packet - Source: 142.250.183.174:443 --> Destination: 192.168.10.105:59831\n",
      "2024-05-06 15:11:09,222 - INFO - TCP Packet - Source: 142.250.183.174:443 --> Destination: 192.168.10.105:59831\n",
      "2024-05-06 15:11:09,476 - INFO - TCP Packet - Source: 142.250.183.174:443 --> Destination: 192.168.10.105:59831\n",
      "2024-05-06 15:11:09,477 - INFO - TCP Packet - Source: 142.250.183.174:443 --> Destination: 192.168.10.105:59831\n",
      "2024-05-06 15:11:09,517 - INFO - TCP Packet - Source: 142.250.183.174:443 --> Destination: 192.168.10.105:59831\n",
      "2024-05-06 15:11:09,517 - INFO - TCP Packet - Source: 142.250.183.174:443 --> Destination: 192.168.10.105:59831\n",
      "2024-05-06 15:11:09,518 - INFO - TCP Packet - Source: 192.168.10.105:59831 --> Destination: 142.250.183.174:443\n",
      "2024-05-06 15:11:09,518 - INFO - TCP Packet - Source: 142.250.183.174:443 --> Destination: 192.168.10.105:59831\n",
      "2024-05-06 15:11:09,518 - INFO - TCP Packet - Source: 142.250.183.174:443 --> Destination: 192.168.10.105:59831\n",
      "2024-05-06 15:11:09,519 - INFO - TCP Packet - Source: 192.168.10.105:59831 --> Destination: 142.250.183.174:443\n",
      "2024-05-06 15:11:09,519 - INFO - TCP Packet - Source: 192.168.10.105:59831 --> Destination: 142.250.183.174:443\n",
      "2024-05-06 15:11:09,519 - INFO - TCP Packet - Source: 192.168.10.105:59831 --> Destination: 142.250.183.174:443\n",
      "2024-05-06 15:11:09,520 - INFO - TCP Packet - Source: 142.250.183.174:443 --> Destination: 192.168.10.105:59831\n",
      "2024-05-06 15:11:10,467 - INFO - TCP Packet - Source: 142.250.183.174:443 --> Destination: 192.168.10.105:59831\n",
      "2024-05-06 15:12:41,406 - INFO - TCP Packet - Source: 192.168.10.105:61501 --> Destination: 192.168.10.40:53\n",
      "2024-05-06 15:12:41,406 - INFO - TCP Packet - Source: 192.168.10.40:53 --> Destination: 192.168.10.105:61501\n",
      "2024-05-06 15:12:41,406 - INFO - TCP Packet - Source: 192.168.10.105:61501 --> Destination: 192.168.10.40:53\n",
      "2024-05-06 15:12:41,406 - INFO - TCP Packet - Source: 192.168.10.105:61501 --> Destination: 192.168.10.40:53\n",
      "2024-05-06 15:12:41,406 - INFO - TCP Packet - Source: 192.168.10.40:53 --> Destination: 192.168.10.105:61501\n",
      "2024-05-06 15:12:41,516 - INFO - TCP Packet - Source: 192.168.10.40:53 --> Destination: 192.168.10.105:61501\n",
      "2024-05-06 15:12:41,579 - INFO - TCP Packet - Source: 192.168.10.105:61501 --> Destination: 192.168.10.40:53\n",
      "2024-05-06 15:12:41,579 - INFO - TCP Packet - Source: 192.168.10.40:53 --> Destination: 192.168.10.105:61501\n",
      "2024-05-06 15:12:41,579 - INFO - TCP Packet - Source: 192.168.10.105:61501 --> Destination: 192.168.10.40:53\n",
      "2024-05-06 15:12:41,579 - INFO - TCP Packet - Source: 192.168.10.40:53 --> Destination: 192.168.10.105:61501\n",
      "2024-05-06 15:12:41,735 - INFO - TCP Packet - Source: 192.168.10.105:61501 --> Destination: 192.168.10.40:53\n",
      "2024-05-06 15:12:45,502 - INFO - TCP Packet - Source: 192.168.10.105:61504 --> Destination: 43.132.85.122:80\n",
      "2024-05-06 15:12:45,784 - INFO - TCP Packet - Source: 43.132.85.122:80 --> Destination: 192.168.10.105:61504\n",
      "2024-05-06 15:12:45,784 - INFO - TCP Packet - Source: 192.168.10.105:61504 --> Destination: 43.132.85.122:80\n",
      "2024-05-06 15:12:45,784 - INFO - TCP Packet - Source: 192.168.10.105:61504 --> Destination: 43.132.85.122:80\n",
      "2024-05-06 15:12:46,115 - INFO - TCP Packet - Source: 43.132.85.122:80 --> Destination: 192.168.10.105:61504\n",
      "2024-05-06 15:12:46,115 - INFO - TCP Packet - Source: 43.132.85.122:80 --> Destination: 192.168.10.105:61504\n",
      "2024-05-06 15:12:46,115 - INFO - TCP Packet - Source: 43.132.85.122:80 --> Destination: 192.168.10.105:61504\n",
      "2024-05-06 15:12:46,115 - INFO - TCP Packet - Source: 192.168.10.105:61504 --> Destination: 43.132.85.122:80\n",
      "2024-05-06 15:12:46,115 - INFO - TCP Packet - Source: 192.168.10.105:61504 --> Destination: 43.132.85.122:80\n",
      "2024-05-06 15:12:46,115 - INFO - TCP Packet - Source: 192.168.10.105:61504 --> Destination: 43.132.85.122:80\n",
      "2024-05-06 15:12:46,237 - INFO - TCP Packet - Source: 43.132.85.122:80 --> Destination: 192.168.10.105:61504\n",
      "2024-05-06 15:12:46,327 - INFO - TCP Packet - Source: 192.168.10.105:61504 --> Destination: 43.132.85.122:80\n",
      "2024-05-06 15:12:46,436 - INFO - TCP Packet - Source: 43.132.85.122:80 --> Destination: 192.168.10.105:61504\n",
      "2024-05-06 15:12:46,436 - INFO - TCP Packet - Source: 192.168.10.105:61504 --> Destination: 43.132.85.122:80\n",
      "2024-05-06 15:12:46,436 - INFO - TCP Packet - Source: 43.132.85.122:80 --> Destination: 192.168.10.105:61504\n",
      "\n",
      "\n",
      "=== Network Intrusion System ===\n",
      "1. Start Packet Capture\n",
      "2. Display Logs\n",
      "3. Exit\n"
     ]
    },
    {
     "name": "stdin",
     "output_type": "stream",
     "text": [
      "Enter your choice:  3\n"
     ]
    },
    {
     "name": "stdout",
     "output_type": "stream",
     "text": [
      "Evidence saved to 'evidence.json'.\n",
      "Exiting...\n"
     ]
    }
   ],
   "source": [
    "\n",
    "# Configure logging\n",
    "logging.basicConfig(filename='intrusion_detection.log', level=logging.INFO, format='%(asctime)s - %(levelname)s - %(message)s')\n",
    "\n",
    "# Evidence storage file path\n",
    "evidence_file = 'evidence.json'\n",
    "\n",
    "# Initialize evidence list1\n",
    "\n",
    "evidence_data = []\n",
    "\n",
    "def analyze_packet(packet):\n",
    "    try:\n",
    "        if IP in packet and TCP in packet:\n",
    "            src_ip = packet[IP].src\n",
    "            dst_ip = packet[IP].dst\n",
    "            src_port = packet[TCP].sport\n",
    "            dst_port = packet[TCP].dport\n",
    "\n",
    "            logging.info(f\"TCP Packet - Source: {src_ip}:{src_port} --> Destination: {dst_ip}:{dst_port}\")\n",
    "\n",
    "            # Example: Detect suspicious activity (e.g., connection to port 22)\n",
    "            if dst_port == 22:\n",
    "                logging.warning(f\"Suspicious TCP connection to port 22 from {src_ip}\")\n",
    "                add_evidence(src_ip, dst_ip, src_port, dst_port)\n",
    "\n",
    "    except IndexError:\n",
    "        logging.error(\"Packet format not supported or missing necessary layers.\")\n",
    "\n",
    "def add_evidence(src_ip, dst_ip, src_port, dst_port):\n",
    "    evidence_entry = {\n",
    "        'source_ip': src_ip,\n",
    "        'destination_ip': dst_ip,\n",
    "        'source_port': src_port,\n",
    "        'destination_port': dst_port,\n",
    "        'timestamp': str(datetime.now())\n",
    "    }\n",
    "    evidence_data.append(evidence_entry)\n",
    "\n",
    "def save_evidence():\n",
    "    with open(evidence_file, 'w') as f:\n",
    "        json.dump(evidence_data, f, indent=4)\n",
    "    print(f\"Evidence saved to '{evidence_file}'.\")\n",
    "\n",
    "def capture_packets():\n",
    "    try:\n",
    "        print(\"Starting packet capture... Press Ctrl+C to stop.\")\n",
    "        sniff(prn=analyze_packet, store=0)\n",
    "    except KeyboardInterrupt:\n",
    "        print(\"Packet capture stopped.\")\n",
    "        save_evidence()  # Save evidence to file on exit\n",
    "\n",
    "def display_logs():\n",
    "    try:\n",
    "        with open('intrusion_detection.log', 'r') as log_file:\n",
    "            logs = log_file.read()\n",
    "            print(logs)\n",
    "    except FileNotFoundError:\n",
    "        print(\"Log file not found.\")\n",
    "\n",
    "def main_menu():\n",
    "    while True:\n",
    "        print(\"\\n=== Network Intrusion System ===\")\n",
    "        print(\"1. Start Packet Capture\")\n",
    "        print(\"2. Display Logs\")\n",
    "        print(\"3. Exit\")\n",
    "\n",
    "        choice = input(\"Enter your choice: \")\n",
    "\n",
    "        if choice == '1':\n",
    "            capture_packets()\n",
    "        elif choice == '2':\n",
    "            display_logs()\n",
    "        elif choice == '3':\n",
    "            save_evidence()  # Save evidence before exiting\n",
    "            print(\"Exiting...\")\n",
    "            break\n",
    "        else:\n",
    "            print(\"Invalid choice. Please try again.\")\n",
    "\n",
    "if __name__ == \"__main__\":\n",
    "    main_menu()\n"
   ]
  },
  {
   "cell_type": "code",
   "execution_count": null,
   "id": "77973bc4-117b-45a1-a295-d73ee8af9f60",
   "metadata": {},
   "outputs": [],
   "source": []
  }
 ],
 "metadata": {
  "kernelspec": {
   "display_name": "Python 3 (ipykernel)",
   "language": "python",
   "name": "python3"
  },
  "language_info": {
   "codemirror_mode": {
    "name": "ipython",
    "version": 3
   },
   "file_extension": ".py",
   "mimetype": "text/x-python",
   "name": "python",
   "nbconvert_exporter": "python",
   "pygments_lexer": "ipython3",
   "version": "3.11.1"
  }
 },
 "nbformat": 4,
 "nbformat_minor": 5
}
